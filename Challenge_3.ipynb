{
  "nbformat": 4,
  "nbformat_minor": 0,
  "metadata": {
    "colab": {
      "name": "Challenge 3.ipynb",
      "provenance": [],
      "collapsed_sections": [],
      "authorship_tag": "ABX9TyMRzZJj6i1FWjGaANUffSzs",
      "include_colab_link": true
    },
    "kernelspec": {
      "name": "python3",
      "display_name": "Python 3"
    },
    "language_info": {
      "name": "python"
    }
  },
  "cells": [
    {
      "cell_type": "markdown",
      "metadata": {
        "id": "view-in-github",
        "colab_type": "text"
      },
      "source": [
        "<a href=\"https://colab.research.google.com/github/RafeeRejab/Hello-World/blob/master/Challenge_3.ipynb\" target=\"_parent\"><img src=\"https://colab.research.google.com/assets/colab-badge.svg\" alt=\"Open In Colab\"/></a>"
      ]
    },
    {
      "cell_type": "code",
      "metadata": {
        "id": "7tZMxP_aNV6f"
      },
      "source": [
        "# Partition set `S` into two subsets, `S1` and `S2`, such that the\n",
        "# difference between the sum of elements in `S1` and the sum\n",
        "# of elements in `S2` is minimized\n",
        "def minPartition(S, n, S1=0, S2=0):\n",
        " \n",
        "    # Base case: if the list becomes empty, return the absolute\n",
        "    # difference between both sets\n",
        "    if n < 0:\n",
        "        return abs(S1 - S2)\n",
        " \n",
        "    # Case 1. Include the current item in subset `S1` and recur\n",
        "    # for the remaining items `n-1`\n",
        "    inc = minPartition(S, n - 1, S1 + S[n], S2)\n",
        " \n",
        "    # Case 2. Exclude the current item from subset `S1` and recur for\n",
        "    # the remaining items `n-1`\n",
        "    exc = minPartition(S, n - 1, S1, S2 + S[n])\n",
        " \n",
        "    return min(inc, exc)\n",
        " \n",
        " # mindiff\n",
        "def getSets(S_main,mindiff):\n",
        "  S1=[0]\n",
        "  diff=mindiff+1\n",
        "  total=round(sum(S_main)/2)\n",
        "  idx=0\n",
        "  while diff !=mindiff:\n",
        "    S=S_main.copy()\n",
        "    random.shuffle(S)\n",
        "    S1=[0]\n",
        "    while sum(S1)<total:\n",
        "      try:\n",
        "        S1.append(S[idx])\n",
        "        S.pop(idx)  \n",
        "      except:\n",
        "        break\n",
        "    S2=S\n",
        "    diff=sum(S1)-sum(S2)\n",
        "  return(S1[1:],S2)\n",
        "\n",
        "  # Find the right indices\n",
        "def findIDX(DF,S1):\n",
        "  buffer=DF.copy()\n",
        "  idxS1=[]\n",
        "  for val in S1:\n",
        "    idxS1.append(buffer.index[buffer== val].values[0])\n",
        "    buffer=buffer.drop(buffer.index[buffer== val].values[0])\n",
        "  return(idxS1)"
      ],
      "execution_count": 96,
      "outputs": []
    },
    {
      "cell_type": "code",
      "metadata": {
        "colab": {
          "base_uri": "https://localhost:8080/",
          "height": 266
        },
        "id": "qxB14XYnacXP",
        "outputId": "57ed8423-16fc-48ea-aff8-13dacb0d02c0"
      },
      "source": [
        "# Generate the data\n",
        "import pandas as pd\n",
        "import random\n",
        "order_prep_buf=[]\n",
        "order_cook_buf=[]\n",
        "No_of_Orders=random.randrange(1,8)\n",
        "for order in range(No_of_Orders):\n",
        "        order_prep_time=random.randrange(1, 10)*5\n",
        "        # Max 1 hour\n",
        "        if order_prep_time>60:\n",
        "            order_prep_time=60\n",
        "        order_prep_buf.append(order_prep_time)\n",
        "        order_cook_time=random.randrange(1, 10)*5\n",
        "        # Max 1 hour\n",
        "        if order_cook_time>60:\n",
        "            order_cook_time=60\n",
        "        order_cook_buf.append(order_cook_time)\n",
        "data={'Preparation':order_prep_buf,'Cooking':order_cook_buf}\n",
        "DF=pd.DataFrame(data)        \n",
        "DF"
      ],
      "execution_count": 122,
      "outputs": [
        {
          "output_type": "execute_result",
          "data": {
            "text/html": [
              "<div>\n",
              "<style scoped>\n",
              "    .dataframe tbody tr th:only-of-type {\n",
              "        vertical-align: middle;\n",
              "    }\n",
              "\n",
              "    .dataframe tbody tr th {\n",
              "        vertical-align: top;\n",
              "    }\n",
              "\n",
              "    .dataframe thead th {\n",
              "        text-align: right;\n",
              "    }\n",
              "</style>\n",
              "<table border=\"1\" class=\"dataframe\">\n",
              "  <thead>\n",
              "    <tr style=\"text-align: right;\">\n",
              "      <th></th>\n",
              "      <th>Preparation</th>\n",
              "      <th>Cooking</th>\n",
              "    </tr>\n",
              "  </thead>\n",
              "  <tbody>\n",
              "    <tr>\n",
              "      <th>0</th>\n",
              "      <td>10</td>\n",
              "      <td>20</td>\n",
              "    </tr>\n",
              "    <tr>\n",
              "      <th>1</th>\n",
              "      <td>45</td>\n",
              "      <td>30</td>\n",
              "    </tr>\n",
              "    <tr>\n",
              "      <th>2</th>\n",
              "      <td>5</td>\n",
              "      <td>15</td>\n",
              "    </tr>\n",
              "    <tr>\n",
              "      <th>3</th>\n",
              "      <td>40</td>\n",
              "      <td>30</td>\n",
              "    </tr>\n",
              "    <tr>\n",
              "      <th>4</th>\n",
              "      <td>10</td>\n",
              "      <td>5</td>\n",
              "    </tr>\n",
              "    <tr>\n",
              "      <th>5</th>\n",
              "      <td>10</td>\n",
              "      <td>35</td>\n",
              "    </tr>\n",
              "    <tr>\n",
              "      <th>6</th>\n",
              "      <td>35</td>\n",
              "      <td>15</td>\n",
              "    </tr>\n",
              "  </tbody>\n",
              "</table>\n",
              "</div>"
            ],
            "text/plain": [
              "   Preparation  Cooking\n",
              "0           10       20\n",
              "1           45       30\n",
              "2            5       15\n",
              "3           40       30\n",
              "4           10        5\n",
              "5           10       35\n",
              "6           35       15"
            ]
          },
          "metadata": {
            "tags": []
          },
          "execution_count": 122
        }
      ]
    },
    {
      "cell_type": "code",
      "metadata": {
        "id": "y0hJKCZo5Pz_"
      },
      "source": [
        "# Input: a set of items\n",
        "S = DF['Preparation'].tolist()\n",
        "mindiff=minPartition(S, len(S) - 1)\n",
        "# print(mindiff)\n",
        "S1,S2= getSets(S,mindiff)\n",
        "S1idx=findIDX(DF.Preparation,S1)"
      ],
      "execution_count": 123,
      "outputs": []
    },
    {
      "cell_type": "code",
      "metadata": {
        "id": "QVuC7NGYHPU-"
      },
      "source": [
        "lsls=S1idx\n",
        "DF1_prep=DF.loc[lsls, :].reset_index(drop=True)\n",
        "DF1_prep['Preparation_1']=DF1_prep['Preparation']\n",
        "DF2_prep=DF.drop(lsls).reset_index(drop=True)\n",
        "DF2_prep['Preparation_2']=DF2_prep['Preparation']"
      ],
      "execution_count": 124,
      "outputs": []
    },
    {
      "cell_type": "code",
      "metadata": {
        "colab": {
          "base_uri": "https://localhost:8080/",
          "height": 111
        },
        "id": "2hK7iBKSjtSg",
        "outputId": "8fd6b622-e853-4919-8c30-1e445d209935"
      },
      "source": [
        "DF1_prep"
      ],
      "execution_count": 125,
      "outputs": [
        {
          "output_type": "execute_result",
          "data": {
            "text/html": [
              "<div>\n",
              "<style scoped>\n",
              "    .dataframe tbody tr th:only-of-type {\n",
              "        vertical-align: middle;\n",
              "    }\n",
              "\n",
              "    .dataframe tbody tr th {\n",
              "        vertical-align: top;\n",
              "    }\n",
              "\n",
              "    .dataframe thead th {\n",
              "        text-align: right;\n",
              "    }\n",
              "</style>\n",
              "<table border=\"1\" class=\"dataframe\">\n",
              "  <thead>\n",
              "    <tr style=\"text-align: right;\">\n",
              "      <th></th>\n",
              "      <th>Preparation</th>\n",
              "      <th>Cooking</th>\n",
              "      <th>Preparation_1</th>\n",
              "    </tr>\n",
              "  </thead>\n",
              "  <tbody>\n",
              "    <tr>\n",
              "      <th>0</th>\n",
              "      <td>45</td>\n",
              "      <td>30</td>\n",
              "      <td>45</td>\n",
              "    </tr>\n",
              "    <tr>\n",
              "      <th>1</th>\n",
              "      <td>35</td>\n",
              "      <td>15</td>\n",
              "      <td>35</td>\n",
              "    </tr>\n",
              "  </tbody>\n",
              "</table>\n",
              "</div>"
            ],
            "text/plain": [
              "   Preparation  Cooking  Preparation_1\n",
              "0           45       30             45\n",
              "1           35       15             35"
            ]
          },
          "metadata": {
            "tags": []
          },
          "execution_count": 125
        }
      ]
    },
    {
      "cell_type": "code",
      "metadata": {
        "colab": {
          "base_uri": "https://localhost:8080/",
          "height": 204
        },
        "id": "7b_WJNmpkgg_",
        "outputId": "966210ca-5852-49a8-f45e-628670fd82eb"
      },
      "source": [
        "DF2_prep"
      ],
      "execution_count": 126,
      "outputs": [
        {
          "output_type": "execute_result",
          "data": {
            "text/html": [
              "<div>\n",
              "<style scoped>\n",
              "    .dataframe tbody tr th:only-of-type {\n",
              "        vertical-align: middle;\n",
              "    }\n",
              "\n",
              "    .dataframe tbody tr th {\n",
              "        vertical-align: top;\n",
              "    }\n",
              "\n",
              "    .dataframe thead th {\n",
              "        text-align: right;\n",
              "    }\n",
              "</style>\n",
              "<table border=\"1\" class=\"dataframe\">\n",
              "  <thead>\n",
              "    <tr style=\"text-align: right;\">\n",
              "      <th></th>\n",
              "      <th>Preparation</th>\n",
              "      <th>Cooking</th>\n",
              "      <th>Preparation_2</th>\n",
              "    </tr>\n",
              "  </thead>\n",
              "  <tbody>\n",
              "    <tr>\n",
              "      <th>0</th>\n",
              "      <td>10</td>\n",
              "      <td>20</td>\n",
              "      <td>10</td>\n",
              "    </tr>\n",
              "    <tr>\n",
              "      <th>1</th>\n",
              "      <td>5</td>\n",
              "      <td>15</td>\n",
              "      <td>5</td>\n",
              "    </tr>\n",
              "    <tr>\n",
              "      <th>2</th>\n",
              "      <td>40</td>\n",
              "      <td>30</td>\n",
              "      <td>40</td>\n",
              "    </tr>\n",
              "    <tr>\n",
              "      <th>3</th>\n",
              "      <td>10</td>\n",
              "      <td>5</td>\n",
              "      <td>10</td>\n",
              "    </tr>\n",
              "    <tr>\n",
              "      <th>4</th>\n",
              "      <td>10</td>\n",
              "      <td>35</td>\n",
              "      <td>10</td>\n",
              "    </tr>\n",
              "  </tbody>\n",
              "</table>\n",
              "</div>"
            ],
            "text/plain": [
              "   Preparation  Cooking  Preparation_2\n",
              "0           10       20             10\n",
              "1            5       15              5\n",
              "2           40       30             40\n",
              "3           10        5             10\n",
              "4           10       35             10"
            ]
          },
          "metadata": {
            "tags": []
          },
          "execution_count": 126
        }
      ]
    },
    {
      "cell_type": "code",
      "metadata": {
        "id": "ZS3RlYeLv9za"
      },
      "source": [
        "# combine them based on the preparation field\n",
        "Final_Prep_machine=pd.concat([DF1_prep.Preparation_1, DF2_prep.Preparation_2], axis=1)"
      ],
      "execution_count": 127,
      "outputs": []
    },
    {
      "cell_type": "code",
      "metadata": {
        "id": "aNDCU5_zkgZH"
      },
      "source": [
        "# Input: a set of items\n",
        "S = DF['Cooking'].tolist()\n",
        "mindiff=minPartition(S, len(S) - 1)\n",
        "# print(mindiff)\n",
        "S1,S2= getSets(S,mindiff)\n",
        "S1idx=findIDX(DF.Cooking,S1)"
      ],
      "execution_count": 128,
      "outputs": []
    },
    {
      "cell_type": "code",
      "metadata": {
        "id": "50qgH5d2kgO6"
      },
      "source": [
        "lsls=S1idx\n",
        "DF1_cook=DF.loc[lsls, :].reset_index(drop=True)\n",
        "DF1_cook['Cooking_1']=DF1_cook['Cooking']\n",
        "DF2_cook=DF.drop(lsls).reset_index(drop=True)\n",
        "DF2_cook['Cooking_2']=DF2_cook['Cooking']"
      ],
      "execution_count": 129,
      "outputs": []
    },
    {
      "cell_type": "code",
      "metadata": {
        "colab": {
          "base_uri": "https://localhost:8080/",
          "height": 173
        },
        "id": "rJ-QXMYiulqi",
        "outputId": "db25a779-3089-4cff-eb97-c4baf40ba4f5"
      },
      "source": [
        "DF1_cook"
      ],
      "execution_count": 130,
      "outputs": [
        {
          "output_type": "execute_result",
          "data": {
            "text/html": [
              "<div>\n",
              "<style scoped>\n",
              "    .dataframe tbody tr th:only-of-type {\n",
              "        vertical-align: middle;\n",
              "    }\n",
              "\n",
              "    .dataframe tbody tr th {\n",
              "        vertical-align: top;\n",
              "    }\n",
              "\n",
              "    .dataframe thead th {\n",
              "        text-align: right;\n",
              "    }\n",
              "</style>\n",
              "<table border=\"1\" class=\"dataframe\">\n",
              "  <thead>\n",
              "    <tr style=\"text-align: right;\">\n",
              "      <th></th>\n",
              "      <th>Preparation</th>\n",
              "      <th>Cooking</th>\n",
              "      <th>Cooking_1</th>\n",
              "    </tr>\n",
              "  </thead>\n",
              "  <tbody>\n",
              "    <tr>\n",
              "      <th>0</th>\n",
              "      <td>10</td>\n",
              "      <td>20</td>\n",
              "      <td>20</td>\n",
              "    </tr>\n",
              "    <tr>\n",
              "      <th>1</th>\n",
              "      <td>10</td>\n",
              "      <td>35</td>\n",
              "      <td>35</td>\n",
              "    </tr>\n",
              "    <tr>\n",
              "      <th>2</th>\n",
              "      <td>10</td>\n",
              "      <td>5</td>\n",
              "      <td>5</td>\n",
              "    </tr>\n",
              "    <tr>\n",
              "      <th>3</th>\n",
              "      <td>5</td>\n",
              "      <td>15</td>\n",
              "      <td>15</td>\n",
              "    </tr>\n",
              "  </tbody>\n",
              "</table>\n",
              "</div>"
            ],
            "text/plain": [
              "   Preparation  Cooking  Cooking_1\n",
              "0           10       20         20\n",
              "1           10       35         35\n",
              "2           10        5          5\n",
              "3            5       15         15"
            ]
          },
          "metadata": {
            "tags": []
          },
          "execution_count": 130
        }
      ]
    },
    {
      "cell_type": "code",
      "metadata": {
        "colab": {
          "base_uri": "https://localhost:8080/",
          "height": 142
        },
        "id": "38j9CWM6ulgH",
        "outputId": "a38d0595-9709-4704-c3d0-92fc5e2ccb9a"
      },
      "source": [
        "DF2_cook"
      ],
      "execution_count": 131,
      "outputs": [
        {
          "output_type": "execute_result",
          "data": {
            "text/html": [
              "<div>\n",
              "<style scoped>\n",
              "    .dataframe tbody tr th:only-of-type {\n",
              "        vertical-align: middle;\n",
              "    }\n",
              "\n",
              "    .dataframe tbody tr th {\n",
              "        vertical-align: top;\n",
              "    }\n",
              "\n",
              "    .dataframe thead th {\n",
              "        text-align: right;\n",
              "    }\n",
              "</style>\n",
              "<table border=\"1\" class=\"dataframe\">\n",
              "  <thead>\n",
              "    <tr style=\"text-align: right;\">\n",
              "      <th></th>\n",
              "      <th>Preparation</th>\n",
              "      <th>Cooking</th>\n",
              "      <th>Cooking_2</th>\n",
              "    </tr>\n",
              "  </thead>\n",
              "  <tbody>\n",
              "    <tr>\n",
              "      <th>0</th>\n",
              "      <td>45</td>\n",
              "      <td>30</td>\n",
              "      <td>30</td>\n",
              "    </tr>\n",
              "    <tr>\n",
              "      <th>1</th>\n",
              "      <td>40</td>\n",
              "      <td>30</td>\n",
              "      <td>30</td>\n",
              "    </tr>\n",
              "    <tr>\n",
              "      <th>2</th>\n",
              "      <td>35</td>\n",
              "      <td>15</td>\n",
              "      <td>15</td>\n",
              "    </tr>\n",
              "  </tbody>\n",
              "</table>\n",
              "</div>"
            ],
            "text/plain": [
              "   Preparation  Cooking  Cooking_2\n",
              "0           45       30         30\n",
              "1           40       30         30\n",
              "2           35       15         15"
            ]
          },
          "metadata": {
            "tags": []
          },
          "execution_count": 131
        }
      ]
    },
    {
      "cell_type": "code",
      "metadata": {
        "colab": {
          "base_uri": "https://localhost:8080/",
          "height": 173
        },
        "id": "iRR5d13AulGL",
        "outputId": "723c70a5-575d-4ad7-e7aa-f2e91ceb3c52"
      },
      "source": [
        "Final_cook_machine=pd.concat([DF1_cook.Cooking_1, DF2_cook.Cooking_2], axis=1)\n",
        "Final_cook_machine"
      ],
      "execution_count": 132,
      "outputs": [
        {
          "output_type": "execute_result",
          "data": {
            "text/html": [
              "<div>\n",
              "<style scoped>\n",
              "    .dataframe tbody tr th:only-of-type {\n",
              "        vertical-align: middle;\n",
              "    }\n",
              "\n",
              "    .dataframe tbody tr th {\n",
              "        vertical-align: top;\n",
              "    }\n",
              "\n",
              "    .dataframe thead th {\n",
              "        text-align: right;\n",
              "    }\n",
              "</style>\n",
              "<table border=\"1\" class=\"dataframe\">\n",
              "  <thead>\n",
              "    <tr style=\"text-align: right;\">\n",
              "      <th></th>\n",
              "      <th>Cooking_1</th>\n",
              "      <th>Cooking_2</th>\n",
              "    </tr>\n",
              "  </thead>\n",
              "  <tbody>\n",
              "    <tr>\n",
              "      <th>0</th>\n",
              "      <td>20</td>\n",
              "      <td>30.0</td>\n",
              "    </tr>\n",
              "    <tr>\n",
              "      <th>1</th>\n",
              "      <td>35</td>\n",
              "      <td>30.0</td>\n",
              "    </tr>\n",
              "    <tr>\n",
              "      <th>2</th>\n",
              "      <td>5</td>\n",
              "      <td>15.0</td>\n",
              "    </tr>\n",
              "    <tr>\n",
              "      <th>3</th>\n",
              "      <td>15</td>\n",
              "      <td>NaN</td>\n",
              "    </tr>\n",
              "  </tbody>\n",
              "</table>\n",
              "</div>"
            ],
            "text/plain": [
              "   Cooking_1  Cooking_2\n",
              "0         20       30.0\n",
              "1         35       30.0\n",
              "2          5       15.0\n",
              "3         15        NaN"
            ]
          },
          "metadata": {
            "tags": []
          },
          "execution_count": 132
        }
      ]
    },
    {
      "cell_type": "code",
      "metadata": {
        "colab": {
          "base_uri": "https://localhost:8080/",
          "height": 204
        },
        "id": "xkstapndy7RS",
        "outputId": "0fdc7bcb-2733-4de3-902f-7055b6a4e495"
      },
      "source": [
        "Final_Prep_machine"
      ],
      "execution_count": 133,
      "outputs": [
        {
          "output_type": "execute_result",
          "data": {
            "text/html": [
              "<div>\n",
              "<style scoped>\n",
              "    .dataframe tbody tr th:only-of-type {\n",
              "        vertical-align: middle;\n",
              "    }\n",
              "\n",
              "    .dataframe tbody tr th {\n",
              "        vertical-align: top;\n",
              "    }\n",
              "\n",
              "    .dataframe thead th {\n",
              "        text-align: right;\n",
              "    }\n",
              "</style>\n",
              "<table border=\"1\" class=\"dataframe\">\n",
              "  <thead>\n",
              "    <tr style=\"text-align: right;\">\n",
              "      <th></th>\n",
              "      <th>Preparation_1</th>\n",
              "      <th>Preparation_2</th>\n",
              "    </tr>\n",
              "  </thead>\n",
              "  <tbody>\n",
              "    <tr>\n",
              "      <th>0</th>\n",
              "      <td>45.0</td>\n",
              "      <td>10</td>\n",
              "    </tr>\n",
              "    <tr>\n",
              "      <th>1</th>\n",
              "      <td>35.0</td>\n",
              "      <td>5</td>\n",
              "    </tr>\n",
              "    <tr>\n",
              "      <th>2</th>\n",
              "      <td>NaN</td>\n",
              "      <td>40</td>\n",
              "    </tr>\n",
              "    <tr>\n",
              "      <th>3</th>\n",
              "      <td>NaN</td>\n",
              "      <td>10</td>\n",
              "    </tr>\n",
              "    <tr>\n",
              "      <th>4</th>\n",
              "      <td>NaN</td>\n",
              "      <td>10</td>\n",
              "    </tr>\n",
              "  </tbody>\n",
              "</table>\n",
              "</div>"
            ],
            "text/plain": [
              "   Preparation_1  Preparation_2\n",
              "0           45.0             10\n",
              "1           35.0              5\n",
              "2            NaN             40\n",
              "3            NaN             10\n",
              "4            NaN             10"
            ]
          },
          "metadata": {
            "tags": []
          },
          "execution_count": 133
        }
      ]
    },
    {
      "cell_type": "code",
      "metadata": {
        "colab": {
          "base_uri": "https://localhost:8080/",
          "height": 204
        },
        "id": "_qtRHpULzXmC",
        "outputId": "ed61b969-5992-4d80-d21d-16079d6084e6"
      },
      "source": [
        "import numpy as np\n",
        "Final_concat=pd.concat([Final_Prep_machine, Final_cook_machine],axis=1)\n",
        "Final_concat = Final_concat.fillna(-1)\n",
        "Final_concat = Final_concat.astype(int)\n",
        "Final_concat= Final_concat.astype(str)\n",
        "Final_concat= Final_concat.replace('-1', '-')\n",
        "Final_concat"
      ],
      "execution_count": 134,
      "outputs": [
        {
          "output_type": "execute_result",
          "data": {
            "text/html": [
              "<div>\n",
              "<style scoped>\n",
              "    .dataframe tbody tr th:only-of-type {\n",
              "        vertical-align: middle;\n",
              "    }\n",
              "\n",
              "    .dataframe tbody tr th {\n",
              "        vertical-align: top;\n",
              "    }\n",
              "\n",
              "    .dataframe thead th {\n",
              "        text-align: right;\n",
              "    }\n",
              "</style>\n",
              "<table border=\"1\" class=\"dataframe\">\n",
              "  <thead>\n",
              "    <tr style=\"text-align: right;\">\n",
              "      <th></th>\n",
              "      <th>Preparation_1</th>\n",
              "      <th>Preparation_2</th>\n",
              "      <th>Cooking_1</th>\n",
              "      <th>Cooking_2</th>\n",
              "    </tr>\n",
              "  </thead>\n",
              "  <tbody>\n",
              "    <tr>\n",
              "      <th>0</th>\n",
              "      <td>45</td>\n",
              "      <td>10</td>\n",
              "      <td>20</td>\n",
              "      <td>30</td>\n",
              "    </tr>\n",
              "    <tr>\n",
              "      <th>1</th>\n",
              "      <td>35</td>\n",
              "      <td>5</td>\n",
              "      <td>35</td>\n",
              "      <td>30</td>\n",
              "    </tr>\n",
              "    <tr>\n",
              "      <th>2</th>\n",
              "      <td>-</td>\n",
              "      <td>40</td>\n",
              "      <td>5</td>\n",
              "      <td>15</td>\n",
              "    </tr>\n",
              "    <tr>\n",
              "      <th>3</th>\n",
              "      <td>-</td>\n",
              "      <td>10</td>\n",
              "      <td>15</td>\n",
              "      <td>-</td>\n",
              "    </tr>\n",
              "    <tr>\n",
              "      <th>4</th>\n",
              "      <td>-</td>\n",
              "      <td>10</td>\n",
              "      <td>-</td>\n",
              "      <td>-</td>\n",
              "    </tr>\n",
              "  </tbody>\n",
              "</table>\n",
              "</div>"
            ],
            "text/plain": [
              "  Preparation_1 Preparation_2 Cooking_1 Cooking_2\n",
              "0            45            10        20        30\n",
              "1            35             5        35        30\n",
              "2             -            40         5        15\n",
              "3             -            10        15         -\n",
              "4             -            10         -         -"
            ]
          },
          "metadata": {
            "tags": []
          },
          "execution_count": 134
        }
      ]
    },
    {
      "cell_type": "code",
      "metadata": {
        "colab": {
          "base_uri": "https://localhost:8080/",
          "height": 266
        },
        "id": "C2ZflIYm8mov",
        "outputId": "e0d412f4-0d3b-4b05-8107-b41bb581eed1"
      },
      "source": [
        "DF"
      ],
      "execution_count": 144,
      "outputs": [
        {
          "output_type": "execute_result",
          "data": {
            "text/html": [
              "<div>\n",
              "<style scoped>\n",
              "    .dataframe tbody tr th:only-of-type {\n",
              "        vertical-align: middle;\n",
              "    }\n",
              "\n",
              "    .dataframe tbody tr th {\n",
              "        vertical-align: top;\n",
              "    }\n",
              "\n",
              "    .dataframe thead th {\n",
              "        text-align: right;\n",
              "    }\n",
              "</style>\n",
              "<table border=\"1\" class=\"dataframe\">\n",
              "  <thead>\n",
              "    <tr style=\"text-align: right;\">\n",
              "      <th></th>\n",
              "      <th>Preparation</th>\n",
              "      <th>Cooking</th>\n",
              "    </tr>\n",
              "  </thead>\n",
              "  <tbody>\n",
              "    <tr>\n",
              "      <th>0</th>\n",
              "      <td>10</td>\n",
              "      <td>20</td>\n",
              "    </tr>\n",
              "    <tr>\n",
              "      <th>1</th>\n",
              "      <td>45</td>\n",
              "      <td>30</td>\n",
              "    </tr>\n",
              "    <tr>\n",
              "      <th>2</th>\n",
              "      <td>5</td>\n",
              "      <td>15</td>\n",
              "    </tr>\n",
              "    <tr>\n",
              "      <th>3</th>\n",
              "      <td>40</td>\n",
              "      <td>30</td>\n",
              "    </tr>\n",
              "    <tr>\n",
              "      <th>4</th>\n",
              "      <td>10</td>\n",
              "      <td>5</td>\n",
              "    </tr>\n",
              "    <tr>\n",
              "      <th>5</th>\n",
              "      <td>10</td>\n",
              "      <td>35</td>\n",
              "    </tr>\n",
              "    <tr>\n",
              "      <th>6</th>\n",
              "      <td>35</td>\n",
              "      <td>15</td>\n",
              "    </tr>\n",
              "  </tbody>\n",
              "</table>\n",
              "</div>"
            ],
            "text/plain": [
              "   Preparation  Cooking\n",
              "0           10       20\n",
              "1           45       30\n",
              "2            5       15\n",
              "3           40       30\n",
              "4           10        5\n",
              "5           10       35\n",
              "6           35       15"
            ]
          },
          "metadata": {
            "tags": []
          },
          "execution_count": 144
        }
      ]
    },
    {
      "cell_type": "code",
      "metadata": {
        "colab": {
          "base_uri": "https://localhost:8080/",
          "height": 52
        },
        "id": "megjrK1c3T5k",
        "outputId": "2f5d0e1f-96ff-4cec-c0ad-a96f1429dd8a"
      },
      "source": [
        "str_collect=''\n",
        "for index, row in Final_concat. iterrows():\n",
        "  str_collect=str_collect+'\\nPreparaion_1 '+str(row[0]) +' Cooking_1 '+str(row[2])\n",
        "  str_collect=str_collect+'\\nPreparaion_2 '+str(row[1]) +' Cooking_2 '+str(row[3])\n",
        "str_collect=str_collect+'\\n'\n",
        "data=str_collect\n",
        "data"
      ],
      "execution_count": 135,
      "outputs": [
        {
          "output_type": "execute_result",
          "data": {
            "application/vnd.google.colaboratory.intrinsic+json": {
              "type": "string"
            },
            "text/plain": [
              "'\\nPreparaion_1 45 Cooking_1 20\\nPreparaion_2 10 Cooking_2 30\\nPreparaion_1 35 Cooking_1 35\\nPreparaion_2 5 Cooking_2 30\\nPreparaion_1 - Cooking_1 5\\nPreparaion_2 40 Cooking_2 15\\nPreparaion_1 - Cooking_1 15\\nPreparaion_2 10 Cooking_2 -\\nPreparaion_1 - Cooking_1 -\\nPreparaion_2 10 Cooking_2 -\\n'"
            ]
          },
          "metadata": {
            "tags": []
          },
          "execution_count": 135
        }
      ]
    },
    {
      "cell_type": "code",
      "metadata": {
        "id": "FXvEOxwBtHVY"
      },
      "source": [
        "# str_collect=''\n",
        "# for index, row in DF. iterrows():\n",
        "#   str_collect=str_collect+'\\nPreparaion '+str(row[0]) +' Cooking '+str(row[1])\n",
        "# str_collect=str_collect+'\\n'\n",
        "# data=str_collect\n",
        "\n",
        "TASKS = {}\n",
        "for job, line in enumerate(data.splitlines()[1:]):\n",
        "    nums = line.split()\n",
        "    prec = None\n",
        "    for m, dur in zip(nums[::2], nums[1::2]):\n",
        "        task = (f\"Order_{job}\",f\"{m}\")\n",
        "        # print(dur)\n",
        "        try:\n",
        "          TASKS[task] = {'dur':int(dur), 'prec':prec}\n",
        "        except:\n",
        "          continue\n",
        "        prec = task"
      ],
      "execution_count": 136,
      "outputs": []
    },
    {
      "cell_type": "code",
      "metadata": {
        "colab": {
          "base_uri": "https://localhost:8080/",
          "height": 266
        },
        "id": "fo_MBkQpuNHn",
        "outputId": "10ccc057-ee06-4db7-fcdb-ff80dd4041ef"
      },
      "source": [
        "DF"
      ],
      "execution_count": 137,
      "outputs": [
        {
          "output_type": "execute_result",
          "data": {
            "text/html": [
              "<div>\n",
              "<style scoped>\n",
              "    .dataframe tbody tr th:only-of-type {\n",
              "        vertical-align: middle;\n",
              "    }\n",
              "\n",
              "    .dataframe tbody tr th {\n",
              "        vertical-align: top;\n",
              "    }\n",
              "\n",
              "    .dataframe thead th {\n",
              "        text-align: right;\n",
              "    }\n",
              "</style>\n",
              "<table border=\"1\" class=\"dataframe\">\n",
              "  <thead>\n",
              "    <tr style=\"text-align: right;\">\n",
              "      <th></th>\n",
              "      <th>Preparation</th>\n",
              "      <th>Cooking</th>\n",
              "    </tr>\n",
              "  </thead>\n",
              "  <tbody>\n",
              "    <tr>\n",
              "      <th>0</th>\n",
              "      <td>10</td>\n",
              "      <td>20</td>\n",
              "    </tr>\n",
              "    <tr>\n",
              "      <th>1</th>\n",
              "      <td>45</td>\n",
              "      <td>30</td>\n",
              "    </tr>\n",
              "    <tr>\n",
              "      <th>2</th>\n",
              "      <td>5</td>\n",
              "      <td>15</td>\n",
              "    </tr>\n",
              "    <tr>\n",
              "      <th>3</th>\n",
              "      <td>40</td>\n",
              "      <td>30</td>\n",
              "    </tr>\n",
              "    <tr>\n",
              "      <th>4</th>\n",
              "      <td>10</td>\n",
              "      <td>5</td>\n",
              "    </tr>\n",
              "    <tr>\n",
              "      <th>5</th>\n",
              "      <td>10</td>\n",
              "      <td>35</td>\n",
              "    </tr>\n",
              "    <tr>\n",
              "      <th>6</th>\n",
              "      <td>35</td>\n",
              "      <td>15</td>\n",
              "    </tr>\n",
              "  </tbody>\n",
              "</table>\n",
              "</div>"
            ],
            "text/plain": [
              "   Preparation  Cooking\n",
              "0           10       20\n",
              "1           45       30\n",
              "2            5       15\n",
              "3           40       30\n",
              "4           10        5\n",
              "5           10       35\n",
              "6           35       15"
            ]
          },
          "metadata": {
            "tags": []
          },
          "execution_count": 137
        }
      ]
    },
    {
      "cell_type": "code",
      "metadata": {
        "colab": {
          "base_uri": "https://localhost:8080/"
        },
        "id": "gUnyAgu12CvH",
        "outputId": "251adedb-18bb-4243-847c-febe231ca62f"
      },
      "source": [
        "TASKS"
      ],
      "execution_count": 138,
      "outputs": [
        {
          "output_type": "execute_result",
          "data": {
            "text/plain": [
              "{('Order_0', 'Cooking_1'): {'dur': 20, 'prec': ('Order_0', 'Preparaion_1')},\n",
              " ('Order_0', 'Preparaion_1'): {'dur': 45, 'prec': None},\n",
              " ('Order_1', 'Cooking_2'): {'dur': 30, 'prec': ('Order_1', 'Preparaion_2')},\n",
              " ('Order_1', 'Preparaion_2'): {'dur': 10, 'prec': None},\n",
              " ('Order_2', 'Cooking_1'): {'dur': 35, 'prec': ('Order_2', 'Preparaion_1')},\n",
              " ('Order_2', 'Preparaion_1'): {'dur': 35, 'prec': None},\n",
              " ('Order_3', 'Cooking_2'): {'dur': 30, 'prec': ('Order_3', 'Preparaion_2')},\n",
              " ('Order_3', 'Preparaion_2'): {'dur': 5, 'prec': None},\n",
              " ('Order_4', 'Cooking_1'): {'dur': 5, 'prec': None},\n",
              " ('Order_5', 'Cooking_2'): {'dur': 15, 'prec': ('Order_5', 'Preparaion_2')},\n",
              " ('Order_5', 'Preparaion_2'): {'dur': 40, 'prec': None},\n",
              " ('Order_6', 'Cooking_1'): {'dur': 15, 'prec': None},\n",
              " ('Order_7', 'Preparaion_2'): {'dur': 10, 'prec': None},\n",
              " ('Order_9', 'Preparaion_2'): {'dur': 10, 'prec': None}}"
            ]
          },
          "metadata": {
            "tags": []
          },
          "execution_count": 138
        }
      ]
    },
    {
      "cell_type": "code",
      "metadata": {
        "id": "9J1xu8l2BE8d"
      },
      "source": [
        "%matplotlib inline\n",
        "import matplotlib.pyplot as plt\n",
        "import matplotlib as mpl\n",
        "import pandas as pd\n",
        "\n",
        "import shutil\n",
        "import sys\n",
        "import os.path\n",
        "\n",
        "if not shutil.which(\"pyomo\"):\n",
        "    !pip install -q pyomo\n",
        "    assert(shutil.which(\"pyomo\"))\n",
        "\n",
        "if not (shutil.which(\"cbc\") or os.path.isfile(\"cbc\")):\n",
        "    if \"google.colab\" in sys.modules:\n",
        "        !apt-get install -y -qq coinor-cbc\n",
        "    else:\n",
        "        try:\n",
        "            !conda install -c conda-forge coincbc \n",
        "        except:\n",
        "            pass\n",
        "\n",
        "assert(shutil.which(\"cbc\") or os.path.isfile(\"cbc\"))\n",
        "from pyomo.environ import *\n",
        "from pyomo.gdp import *"
      ],
      "execution_count": 139,
      "outputs": []
    },
    {
      "cell_type": "code",
      "metadata": {
        "colab": {
          "base_uri": "https://localhost:8080/"
        },
        "id": "QUoyxfPGBaK3",
        "outputId": "08bdeacb-2582-4849-f89d-bcbea5246f17"
      },
      "source": [
        "def jobshop_model(TASKS):\n",
        "    \n",
        "    model = ConcreteModel()\n",
        "\n",
        "    # tasks is a two dimensional set of (j,m) constructed from the dictionary keys\n",
        "    model.TASKS = Set(initialize = TASKS.keys(), dimen=2)\n",
        "    \n",
        "    # the set of jobs is constructed from a python set\n",
        "    model.JOBS = Set(initialize = list(set([j for (j,m) in model.TASKS])))\n",
        "    \n",
        "    # set of machines is constructed from a python set\n",
        "    model.MACHINES = Set(initialize = list(set([m for (j,m) in model.TASKS])))\n",
        "    \n",
        "    # the order of tasks is constructed as a cross-product of tasks and filtering\n",
        "    model.TASKORDER = Set(initialize = model.TASKS * model.TASKS, dimen=4, \n",
        "        filter = lambda model, j, m, k, n: (k,n) == TASKS[(j,m)]['prec'])\n",
        "    \n",
        "    # the set of disjunctions is cross-product of jobs, jobs, and machines\n",
        "    model.DISJUNCTIONS = Set(initialize = model.JOBS * model.JOBS * model.MACHINES, dimen=3,\n",
        "        filter = lambda model, j, k, m: j < k and (j,m) in model.TASKS and (k,m) in model.TASKS)\n",
        "    \n",
        "    # load duration data into a model parameter for later access\n",
        "    model.dur = Param(model.TASKS, initialize=lambda model, j, m: TASKS[(j,m)]['dur'])\n",
        "\n",
        "    # establish an upper bound on makespan\n",
        "    ub = sum([model.dur[j, m] for (j,m) in model.TASKS])\n",
        "    \n",
        "    # create decision variables\n",
        "    model.makespan = Var(bounds=(0, ub))\n",
        "    model.start = Var(model.TASKS, bounds=(0, ub))\n",
        "    \n",
        "    model.objective = Objective(expr = model.makespan, sense = minimize)\n",
        "\n",
        "    model.finish = Constraint(model.TASKS, rule=lambda model, j, m:  \n",
        "        model.start[j,m] + model.dur[j,m] <= model.makespan)\n",
        "    \n",
        "    model.preceding = Constraint(model.TASKORDER, rule=lambda model, j, m, k, n: \n",
        "        model.start[k,n] + model.dur[k,n] <= model.start[j,m])\n",
        "    \n",
        "    model.disjunctions = Disjunction(model.DISJUNCTIONS, rule=lambda model,j,k,m:\n",
        "        [model.start[j,m] + model.dur[j,m] <= model.start[k,m], \n",
        "         model.start[k,m] + model.dur[k,m] <= model.start[j,m]])\n",
        "    \n",
        "    TransformationFactory('gdp.hull').apply_to(model)\n",
        "    return model\n",
        "\n",
        "jobshop_model(TASKS)"
      ],
      "execution_count": 140,
      "outputs": [
        {
          "output_type": "execute_result",
          "data": {
            "text/plain": [
              "<pyomo.core.base.PyomoModel.ConcreteModel at 0x7f6a7a966870>"
            ]
          },
          "metadata": {
            "tags": []
          },
          "execution_count": 140
        }
      ]
    },
    {
      "cell_type": "code",
      "metadata": {
        "colab": {
          "base_uri": "https://localhost:8080/"
        },
        "id": "kt1GwF20Beno",
        "outputId": "e19aefcf-387a-46fb-b6cb-80bcc72b3680"
      },
      "source": [
        "def jobshop_solve(model):\n",
        "    SolverFactory('cbc').solve(model)\n",
        "    results = [{'Job': j,\n",
        "                'Machine': m,\n",
        "                'Start': model.start[j, m](), \n",
        "                'Duration': model.dur[j,m], \n",
        "                'Finish': model.start[(j, m)]() + model.dur[j,m]}\n",
        "               for j,m in model.TASKS]\n",
        "    return results\n",
        "\n",
        "def jobshop(TASKS):\n",
        "    return jobshop_solve(jobshop_model(TASKS))\n",
        "\n",
        "results = jobshop(TASKS)\n",
        "results"
      ],
      "execution_count": 141,
      "outputs": [
        {
          "output_type": "execute_result",
          "data": {
            "text/plain": [
              "[{'Duration': 45,\n",
              "  'Finish': 80.0,\n",
              "  'Job': 'Order_0',\n",
              "  'Machine': 'Preparaion_1',\n",
              "  'Start': 35.0},\n",
              " {'Duration': 20,\n",
              "  'Finish': 100.0,\n",
              "  'Job': 'Order_0',\n",
              "  'Machine': 'Cooking_1',\n",
              "  'Start': 80.0},\n",
              " {'Duration': 10,\n",
              "  'Finish': 35.0,\n",
              "  'Job': 'Order_1',\n",
              "  'Machine': 'Preparaion_2',\n",
              "  'Start': 25.0},\n",
              " {'Duration': 30,\n",
              "  'Finish': 85.0,\n",
              "  'Job': 'Order_1',\n",
              "  'Machine': 'Cooking_2',\n",
              "  'Start': 55.0},\n",
              " {'Duration': 35,\n",
              "  'Finish': 35.0,\n",
              "  'Job': 'Order_2',\n",
              "  'Machine': 'Preparaion_1',\n",
              "  'Start': 0.0},\n",
              " {'Duration': 35,\n",
              "  'Finish': 70.0,\n",
              "  'Job': 'Order_2',\n",
              "  'Machine': 'Cooking_1',\n",
              "  'Start': 35.0},\n",
              " {'Duration': 5,\n",
              "  'Finish': 25.0,\n",
              "  'Job': 'Order_3',\n",
              "  'Machine': 'Preparaion_2',\n",
              "  'Start': 20.0},\n",
              " {'Duration': 30,\n",
              "  'Finish': 55.0,\n",
              "  'Job': 'Order_3',\n",
              "  'Machine': 'Cooking_2',\n",
              "  'Start': 25.0},\n",
              " {'Duration': 5,\n",
              "  'Finish': 20.0,\n",
              "  'Job': 'Order_4',\n",
              "  'Machine': 'Cooking_1',\n",
              "  'Start': 15.0},\n",
              " {'Duration': 40,\n",
              "  'Finish': 75.0,\n",
              "  'Job': 'Order_5',\n",
              "  'Machine': 'Preparaion_2',\n",
              "  'Start': 35.0},\n",
              " {'Duration': 15,\n",
              "  'Finish': 100.0,\n",
              "  'Job': 'Order_5',\n",
              "  'Machine': 'Cooking_2',\n",
              "  'Start': 85.0},\n",
              " {'Duration': 15,\n",
              "  'Finish': 15.0,\n",
              "  'Job': 'Order_6',\n",
              "  'Machine': 'Cooking_1',\n",
              "  'Start': 0.0},\n",
              " {'Duration': 10,\n",
              "  'Finish': 20.0,\n",
              "  'Job': 'Order_7',\n",
              "  'Machine': 'Preparaion_2',\n",
              "  'Start': 10.0},\n",
              " {'Duration': 10,\n",
              "  'Finish': 10.0,\n",
              "  'Job': 'Order_9',\n",
              "  'Machine': 'Preparaion_2',\n",
              "  'Start': 0.0}]"
            ]
          },
          "metadata": {
            "tags": []
          },
          "execution_count": 141
        }
      ]
    },
    {
      "cell_type": "code",
      "metadata": {
        "colab": {
          "base_uri": "https://localhost:8080/"
        },
        "id": "fdfH1b1FBh2y",
        "outputId": "75276b49-2c1a-4f25-9c5d-73f25fbe868f"
      },
      "source": [
        "schedule = pd.DataFrame(results)\n",
        "\n",
        "print('\\nSchedule by Job')\n",
        "print(schedule.sort_values(by=['Job','Start']).set_index(['Job', 'Machine']))\n",
        "\n",
        "print('\\nSchedule by Machine')\n",
        "print(schedule.sort_values(by=['Machine','Start']).set_index(['Machine', 'Job']))"
      ],
      "execution_count": 142,
      "outputs": [
        {
          "output_type": "stream",
          "text": [
            "\n",
            "Schedule by Job\n",
            "                      Start  Duration  Finish\n",
            "Job     Machine                              \n",
            "Order_0 Preparaion_1   35.0        45    80.0\n",
            "        Cooking_1      80.0        20   100.0\n",
            "Order_1 Preparaion_2   25.0        10    35.0\n",
            "        Cooking_2      55.0        30    85.0\n",
            "Order_2 Preparaion_1    0.0        35    35.0\n",
            "        Cooking_1      35.0        35    70.0\n",
            "Order_3 Preparaion_2   20.0         5    25.0\n",
            "        Cooking_2      25.0        30    55.0\n",
            "Order_4 Cooking_1      15.0         5    20.0\n",
            "Order_5 Preparaion_2   35.0        40    75.0\n",
            "        Cooking_2      85.0        15   100.0\n",
            "Order_6 Cooking_1       0.0        15    15.0\n",
            "Order_7 Preparaion_2   10.0        10    20.0\n",
            "Order_9 Preparaion_2    0.0        10    10.0\n",
            "\n",
            "Schedule by Machine\n",
            "                      Start  Duration  Finish\n",
            "Machine      Job                             \n",
            "Cooking_1    Order_6    0.0        15    15.0\n",
            "             Order_4   15.0         5    20.0\n",
            "             Order_2   35.0        35    70.0\n",
            "             Order_0   80.0        20   100.0\n",
            "Cooking_2    Order_3   25.0        30    55.0\n",
            "             Order_1   55.0        30    85.0\n",
            "             Order_5   85.0        15   100.0\n",
            "Preparaion_1 Order_2    0.0        35    35.0\n",
            "             Order_0   35.0        45    80.0\n",
            "Preparaion_2 Order_9    0.0        10    10.0\n",
            "             Order_7   10.0        10    20.0\n",
            "             Order_3   20.0         5    25.0\n",
            "             Order_1   25.0        10    35.0\n",
            "             Order_5   35.0        40    75.0\n"
          ],
          "name": "stdout"
        }
      ]
    },
    {
      "cell_type": "code",
      "metadata": {
        "colab": {
          "base_uri": "https://localhost:8080/",
          "height": 603
        },
        "id": "oxxis2l4BmgJ",
        "outputId": "fbea6e33-54aa-4d27-e09c-dbe67248b3e1"
      },
      "source": [
        "def visualize(results):\n",
        "    \n",
        "    schedule = pd.DataFrame(results)\n",
        "    JOBS = sorted(list(schedule['Job'].unique()))\n",
        "    MACHINES = sorted(list(schedule['Machine'].unique()))\n",
        "    makespan = schedule['Finish'].max()\n",
        "    \n",
        "    bar_style = {'alpha':1.0, 'lw':25, 'solid_capstyle':'butt'}\n",
        "    text_style = {'color':'white', 'weight':'bold', 'ha':'center', 'va':'center'}\n",
        "    colors = mpl.cm.Dark2.colors\n",
        "\n",
        "    schedule.sort_values(by=['Job', 'Start'])\n",
        "    schedule.set_index(['Job', 'Machine'], inplace=True)\n",
        "\n",
        "    fig, ax = plt.subplots(2,1, figsize=(12, 5+(len(JOBS)+len(MACHINES))/4))\n",
        "\n",
        "    for jdx, j in enumerate(JOBS, 1):\n",
        "        for mdx, m in enumerate(MACHINES, 1):\n",
        "            if (j,m) in schedule.index:\n",
        "                xs = schedule.loc[(j,m), 'Start']\n",
        "                xf = schedule.loc[(j,m), 'Finish']\n",
        "                ax[0].plot([xs, xf], [jdx]*2, c=colors[mdx%7], **bar_style)\n",
        "                ax[0].text((xs + xf)/2, jdx, m, **text_style)\n",
        "                ax[1].plot([xs, xf], [mdx]*2, c=colors[jdx%7], **bar_style)\n",
        "                ax[1].text((xs + xf)/2, mdx, j, **text_style)\n",
        "                \n",
        "    ax[0].set_title('Job Schedule')\n",
        "    ax[0].set_ylabel('Job')\n",
        "    ax[1].set_title('Machine Schedule')\n",
        "    ax[1].set_ylabel('Machine')\n",
        "    \n",
        "    for idx, s in enumerate([JOBS, MACHINES]):\n",
        "        ax[idx].set_ylim(0.5, len(s) + 0.5)\n",
        "        ax[idx].set_yticks(range(1, 1 + len(s)))\n",
        "        ax[idx].set_yticklabels(s)\n",
        "        ax[idx].text(makespan, ax[idx].get_ylim()[0]-0.2, \"{0:0.1f}\".format(makespan), ha='center', va='top')\n",
        "        ax[idx].plot([makespan]*2, ax[idx].get_ylim(), 'r--')\n",
        "        ax[idx].set_xlabel('Time')\n",
        "        ax[idx].grid(True)\n",
        "        \n",
        "    fig.tight_layout()\n",
        "\n",
        "visualize(results)"
      ],
      "execution_count": 143,
      "outputs": [
        {
          "output_type": "display_data",
          "data": {
            "image/png": "[encoded data removed]",
            "text/plain": [
              "<Figure size 864x594 with 2 Axes>"
            ]
          },
          "metadata": {
            "tags": [],
            "needs_background": "light"
          }
        }
      ]
    },
    {
      "cell_type": "code",
      "metadata": {
        "id": "BX5FwXI9Bp2l"
      },
      "source": [
        ""
      ],
      "execution_count": null,
      "outputs": []
    }
  ]
}